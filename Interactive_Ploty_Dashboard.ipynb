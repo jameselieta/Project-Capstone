{
  "nbformat": 4,
  "nbformat_minor": 0,
  "metadata": {
    "colab": {
      "name": "Interactive Ploty Dashboard.ipynb",
      "provenance": [],
      "include_colab_link": true
    },
    "kernelspec": {
      "display_name": "Python 3",
      "language": "python",
      "name": "python3"
    },
    "language_info": {
      "codemirror_mode": {
        "name": "ipython",
        "version": 3
      },
      "file_extension": ".py",
      "mimetype": "text/x-python",
      "name": "python",
      "nbconvert_exporter": "python",
      "pygments_lexer": "ipython3",
      "version": "3.8.3"
    }
  },
  "cells": [
    {
      "cell_type": "markdown",
      "metadata": {
        "id": "view-in-github",
        "colab_type": "text"
      },
      "source": [
        "<a href=\"https://colab.research.google.com/github/jiimmyelly/Project-Capstone/blob/main/Interactive_Ploty_Dashboard.ipynb\" target=\"_parent\"><img src=\"https://colab.research.google.com/assets/colab-badge.svg\" alt=\"Open In Colab\"/></a>"
      ]
    },
    {
      "cell_type": "code",
      "metadata": {
        "colab": {
          "base_uri": "https://localhost:8080/"
        },
        "id": "V3FpBHC07Wq6",
        "outputId": "e533d714-2fd8-4ecd-8d8c-d544d6dcdd8f"
      },
      "source": [
        "!pip install dash"
      ],
      "execution_count": null,
      "outputs": [
        {
          "name": "stdout",
          "output_type": "stream",
          "text": [
            "Requirement already satisfied: dash in /home/jimmyelly/anaconda3/lib/python3.8/site-packages (1.20.0)\n",
            "Requirement already satisfied: dash-html-components==1.1.3 in /home/jimmyelly/anaconda3/lib/python3.8/site-packages (from dash) (1.1.3)\n",
            "Requirement already satisfied: dash-renderer==1.9.1 in /home/jimmyelly/anaconda3/lib/python3.8/site-packages (from dash) (1.9.1)\n",
            "Requirement already satisfied: plotly in /home/jimmyelly/anaconda3/lib/python3.8/site-packages (from dash) (4.14.3)\n",
            "Requirement already satisfied: flask-compress in /home/jimmyelly/anaconda3/lib/python3.8/site-packages (from dash) (1.9.0)\n",
            "Requirement already satisfied: dash-core-components==1.16.0 in /home/jimmyelly/anaconda3/lib/python3.8/site-packages (from dash) (1.16.0)\n",
            "Requirement already satisfied: future in /home/jimmyelly/anaconda3/lib/python3.8/site-packages (from dash) (0.18.2)\n",
            "Requirement already satisfied: dash-table==4.11.3 in /home/jimmyelly/anaconda3/lib/python3.8/site-packages (from dash) (4.11.3)\n",
            "Requirement already satisfied: Flask>=1.0.4 in /home/jimmyelly/anaconda3/lib/python3.8/site-packages (from dash) (1.1.2)\n",
            "Requirement already satisfied: retrying>=1.3.3 in /home/jimmyelly/anaconda3/lib/python3.8/site-packages (from plotly->dash) (1.3.3)\n",
            "Requirement already satisfied: six in /home/jimmyelly/anaconda3/lib/python3.8/site-packages (from plotly->dash) (1.15.0)\n",
            "Requirement already satisfied: brotli in /home/jimmyelly/anaconda3/lib/python3.8/site-packages (from flask-compress->dash) (1.0.9)\n",
            "Requirement already satisfied: click>=5.1 in /home/jimmyelly/anaconda3/lib/python3.8/site-packages (from Flask>=1.0.4->dash) (7.1.2)\n",
            "Requirement already satisfied: Jinja2>=2.10.1 in /home/jimmyelly/anaconda3/lib/python3.8/site-packages (from Flask>=1.0.4->dash) (2.11.2)\n",
            "Requirement already satisfied: Werkzeug>=0.15 in /home/jimmyelly/anaconda3/lib/python3.8/site-packages (from Flask>=1.0.4->dash) (1.0.1)\n",
            "Requirement already satisfied: itsdangerous>=0.24 in /home/jimmyelly/anaconda3/lib/python3.8/site-packages (from Flask>=1.0.4->dash) (1.1.0)\n",
            "Requirement already satisfied: MarkupSafe>=0.23 in /home/jimmyelly/anaconda3/lib/python3.8/site-packages (from Jinja2>=2.10.1->Flask>=1.0.4->dash) (1.1.1)\n"
          ]
        }
      ]
    },
    {
      "cell_type": "code",
      "metadata": {
        "colab": {
          "base_uri": "https://localhost:8080/"
        },
        "id": "Nt3gl5m68DO9",
        "outputId": "eae62ac1-6c24-4b6c-d804-929028433024"
      },
      "source": [
        "!pip install wget"
      ],
      "execution_count": null,
      "outputs": [
        {
          "name": "stdout",
          "output_type": "stream",
          "text": [
            "Requirement already satisfied: wget in /home/jimmyelly/anaconda3/lib/python3.8/site-packages (3.2)\r\n"
          ]
        }
      ]
    },
    {
      "cell_type": "code",
      "metadata": {
        "colab": {
          "base_uri": "https://localhost:8080/",
          "height": 36
        },
        "id": "Zd3mZRG37-UV",
        "outputId": "c2da91c4-4492-463d-d12c-40fac2332534"
      },
      "source": [
        "import wget\n",
        "wget.download(\"https://cf-courses-data.s3.us.cloud-object-storage.appdomain.cloud/IBM-DS0321EN-SkillsNetwork/datasets/spacex_launch_dash.csv\") "
      ],
      "execution_count": null,
      "outputs": [
        {
          "data": {
            "text/plain": [
              "'spacex_launch_dash.csv'"
            ]
          },
          "execution_count": 3,
          "metadata": {},
          "output_type": "execute_result"
        }
      ]
    },
    {
      "cell_type": "code",
      "metadata": {
        "id": "OGeRzyJ464BD"
      },
      "source": [
        "# Import required libraries\n",
        "import pandas as pd\n",
        "import dash\n",
        "import dash_html_components as html\n",
        "import dash_core_components as dcc\n",
        "from dash.dependencies import Input, Output\n",
        "import plotly.express as px\n",
        "\n",
        "# Read the airline data into pandas dataframe\n",
        "spacex_df = pd.read_csv(\"spacex_launch_dash.csv\")\n",
        "max_payload = spacex_df['Payload Mass (kg)'].max()\n",
        "min_payload = spacex_df['Payload Mass (kg)'].min()\n",
        "\n",
        "# Create a dash application\n",
        "app = dash.Dash(__name__)"
      ],
      "execution_count": null,
      "outputs": []
    },
    {
      "cell_type": "code",
      "metadata": {
        "id": "_ySKPALg7E1R"
      },
      "source": [
        "\n",
        "# Create an app layout\n",
        "app.layout = html.Div(children=[html.H1('SpaceX Launch Records Dashboard',\n",
        "                                        style={'textAlign': 'center', 'color': '#503D36',\n",
        "                                               'font-size': 40}),\n",
        "                                # TASK 1: Add a dropdown list to enable Launch Site selection\n",
        "                                # The default select value is for ALL sites\n",
        "                                dcc.Dropdown(id='site-dropdown', options='ALL', value='ALL', placeholder='Select a Launch Site here', searchable='True'),\n",
        "                                html.Br(),\n",
        "\n",
        "                                # TASK 2: Add a pie chart to show the total successful launches count for all sites\n",
        "                                # If a specific launch site was selected, show the Success vs. Failed counts for the site\n",
        "                                html.Div(dcc.Graph(id='success-pie-chart')),\n",
        "                                html.Br(),\n",
        "\n",
        "                                html.P(\"Payload range (Kg):\"),\n",
        "                                # TASK 3: Add a slider to select payload range\n",
        "                                dcc.RangeSlider(id='payload-slider', min=0,\n",
        "                                                max=10000,\n",
        "                                                step=1000,\n",
        "                                                value=[min_payload,max_payload]),\n",
        "\n",
        "                                # TASK 4: Add a scatter chart to show the correlation between payload and launch success\n",
        "                                html.Div(dcc.Graph(id='success-payload-scatter-chart')),\n",
        "                                ])"
      ],
      "execution_count": null,
      "outputs": []
    },
    {
      "cell_type": "code",
      "metadata": {
        "id": "chbX_cIj7ISb"
      },
      "source": [
        "# TASK 2:\n",
        "# Add a callback function for `site-dropdown` as input, `success-pie-chart` as output\n",
        "@app.callback(Output(component_id='success-pie-chart',component_property='figure'),\n",
        "             Input(component_id='site-dropdown',component_property='value'))\n",
        "\n",
        "def pie(site):\n",
        "    if site == \"ALL\":\n",
        "        fig = px.pie(spacex_df, values= 'class', names='Launch Site', title='Success count for all launch site')\n",
        "        return fig\n",
        "    else:\n",
        "        df_site_filtered = spacex_df[spacex_df['Launch Site']== site]\n",
        "        df_site = df_site_filtered[df_site_filtered['Launch Site','class']]\n",
        "        df_site_final = df_site.groupby(['Launch Site'], as_index=False)['class'].count()\n",
        "        fig = px.pie(df_site_final, values='class', names= 'Launch Site', title='Success count for'+ site)\n",
        "    return fig"
      ],
      "execution_count": null,
      "outputs": []
    },
    {
      "cell_type": "code",
      "metadata": {
        "colab": {
          "base_uri": "https://localhost:8080/"
        },
        "id": "EWT0S7EW7NN1",
        "outputId": "c968cf65-c806-4345-89d7-a5076c16e308"
      },
      "source": [
        "\n",
        "# TASK 4:\n",
        "# Add a callback function for `site-dropdown` and `payload-slider` as inputs, `success-payload-scatter-chart` as output\n",
        "@app.callback(Output(component_id='success-payload-scatter-chart',component_property='figure'),\n",
        "                [Input(component_id='site-dropdown',component_property='value'),\n",
        "                Input(component_id='payload-slider',component_property='value')])\n",
        "\n",
        "def scatter(site, payload):\n",
        "    low, high = (payload[0],payload[1])\n",
        "    mask = spacex_df[spacex_df['Payload Mass (kg)'].between(low,high)]\n",
        "    if site == 'ALL':\n",
        "        fig = px.scatter(mask, x='Payload Mass (kg)', y='class', color='Booster Version Category', title='Success count on Payload Mass for all sites')\n",
        "        return fig\n",
        "    else:\n",
        "        mask_filtered = mask[mask['Launch Site'] == site]\n",
        "        fig = px.scatter(mask_filtered, x='Payload Mass (kg)', y='class', color='Booster Version Category', title='Success count on Payload Mass for '+ site)\n",
        "        return fig\n",
        "\n",
        "# Run the app\n",
        "if __name__ == '__main__':\n",
        "    app.run_server()"
      ],
      "execution_count": null,
      "outputs": [
        {
          "name": "stdout",
          "output_type": "stream",
          "text": [
            "Dash is running on http://127.0.0.1:8050/\n",
            "\n",
            " * Serving Flask app \"__main__\" (lazy loading)\n",
            " * Environment: production\n",
            "\u001b[31m   WARNING: This is a development server. Do not use it in a production deployment.\u001b[0m\n",
            "\u001b[2m   Use a production WSGI server instead.\u001b[0m\n",
            " * Debug mode: off\n"
          ]
        },
        {
          "name": "stderr",
          "output_type": "stream",
          "text": [
            " * Running on http://127.0.0.1:8050/ (Press CTRL+C to quit)\n",
            "127.0.0.1 - - [07/Oct/2021 12:23:55] \"\u001b[37mGET / HTTP/1.1\u001b[0m\" 200 -\n",
            "127.0.0.1 - - [07/Oct/2021 12:24:05] \"\u001b[37mGET /_dash-component-suites/dash_renderer/react@16.v1_9_1m1621065734.14.0.min.js HTTP/1.1\u001b[0m\" 200 -\n",
            "127.0.0.1 - - [07/Oct/2021 12:24:05] \"\u001b[37mGET /_dash-component-suites/dash_renderer/react-dom@16.v1_9_1m1621065734.14.0.min.js HTTP/1.1\u001b[0m\" 200 -\n",
            "127.0.0.1 - - [07/Oct/2021 12:24:06] \"\u001b[37mGET /_dash-component-suites/dash_renderer/polyfill@7.v1_9_1m1621065734.8.7.min.js HTTP/1.1\u001b[0m\" 200 -\n",
            "127.0.0.1 - - [07/Oct/2021 12:24:06] \"\u001b[37mGET /_dash-component-suites/dash_core_components/dash_core_components.v1_16_0m1621065734.min.js HTTP/1.1\u001b[0m\" 200 -\n",
            "127.0.0.1 - - [07/Oct/2021 12:24:06] \"\u001b[37mGET /_dash-component-suites/dash_renderer/prop-types@15.v1_9_1m1621065734.7.2.min.js HTTP/1.1\u001b[0m\" 200 -\n",
            "127.0.0.1 - - [07/Oct/2021 12:24:06] \"\u001b[37mGET /_dash-component-suites/dash_core_components/dash_core_components-shared.v1_16_0m1621065734.js HTTP/1.1\u001b[0m\" 200 -\n",
            "127.0.0.1 - - [07/Oct/2021 12:24:13] \"\u001b[37mGET /_dash-component-suites/dash_html_components/dash_html_components.v1_1_3m1621065735.min.js HTTP/1.1\u001b[0m\" 200 -\n",
            "127.0.0.1 - - [07/Oct/2021 12:24:13] \"\u001b[37mGET /_dash-component-suites/dash_renderer/dash_renderer.v1_9_1m1621065734.min.js HTTP/1.1\u001b[0m\" 200 -\n",
            "127.0.0.1 - - [07/Oct/2021 12:24:14] \"\u001b[37mGET /_dash-layout HTTP/1.1\u001b[0m\" 200 -\n",
            "127.0.0.1 - - [07/Oct/2021 12:24:15] \"\u001b[37mGET /_dash-dependencies HTTP/1.1\u001b[0m\" 200 -\n",
            "127.0.0.1 - - [07/Oct/2021 12:24:23] \"\u001b[37mGET /_favicon.ico?v=1.20.0 HTTP/1.1\u001b[0m\" 200 -\n",
            "127.0.0.1 - - [07/Oct/2021 12:24:23] \"\u001b[37mGET /_dash-component-suites/dash_core_components/async-dropdown.v1_16_0m1617903285.js HTTP/1.1\u001b[0m\" 200 -\n",
            "127.0.0.1 - - [07/Oct/2021 12:24:23] \"\u001b[37mGET /_dash-component-suites/dash_core_components/async-graph.v1_16_0m1617903285.js HTTP/1.1\u001b[0m\" 200 -\n",
            "127.0.0.1 - - [07/Oct/2021 12:24:24] \"\u001b[37mGET /_dash-component-suites/dash_core_components/async-plotlyjs.v1_16_0m1617903285.js HTTP/1.1\u001b[0m\" 200 -\n",
            "127.0.0.1 - - [07/Oct/2021 12:24:25] \"\u001b[37mGET /_dash-component-suites/dash_core_components/async-slider.v1_16_0m1617903285.js HTTP/1.1\u001b[0m\" 200 -\n",
            "127.0.0.1 - - [07/Oct/2021 12:24:44] \"\u001b[37mGET / HTTP/1.1\u001b[0m\" 200 -\n",
            "127.0.0.1 - - [07/Oct/2021 12:24:48] \"\u001b[37mGET /_dash-layout HTTP/1.1\u001b[0m\" 200 -\n",
            "127.0.0.1 - - [07/Oct/2021 12:24:48] \"\u001b[37mGET /_dash-dependencies HTTP/1.1\u001b[0m\" 200 -\n",
            "127.0.0.1 - - [07/Oct/2021 12:24:51] \"\u001b[37mGET /_favicon.ico?v=1.20.0 HTTP/1.1\u001b[0m\" 200 -\n",
            "127.0.0.1 - - [07/Oct/2021 12:25:41] \"\u001b[37mPOST /_dash-update-component HTTP/1.1\u001b[0m\" 200 -\n",
            "127.0.0.1 - - [07/Oct/2021 12:25:41] \"\u001b[37mPOST /_dash-update-component HTTP/1.1\u001b[0m\" 200 -\n",
            "127.0.0.1 - - [07/Oct/2021 12:25:41] \"\u001b[37mPOST /_dash-update-component HTTP/1.1\u001b[0m\" 200 -\n",
            "127.0.0.1 - - [07/Oct/2021 12:25:41] \"\u001b[37mPOST /_dash-update-component HTTP/1.1\u001b[0m\" 200 -\n",
            "127.0.0.1 - - [07/Oct/2021 12:25:56] \"\u001b[37mPOST /_dash-update-component HTTP/1.1\u001b[0m\" 200 -\n",
            "127.0.0.1 - - [07/Oct/2021 12:26:00] \"\u001b[37mPOST /_dash-update-component HTTP/1.1\u001b[0m\" 200 -\n",
            "127.0.0.1 - - [07/Oct/2021 12:31:10] \"\u001b[37mPOST /_dash-update-component HTTP/1.1\u001b[0m\" 200 -\n",
            "127.0.0.1 - - [07/Oct/2021 12:31:10] \"\u001b[37mPOST /_dash-update-component HTTP/1.1\u001b[0m\" 200 -\n",
            "127.0.0.1 - - [07/Oct/2021 13:01:29] \"\u001b[37mPOST /_dash-update-component HTTP/1.1\u001b[0m\" 200 -\n",
            "127.0.0.1 - - [07/Oct/2021 13:01:36] \"\u001b[37mPOST /_dash-update-component HTTP/1.1\u001b[0m\" 200 -\n",
            "127.0.0.1 - - [07/Oct/2021 13:01:52] \"\u001b[37mPOST /_dash-update-component HTTP/1.1\u001b[0m\" 200 -\n"
          ]
        }
      ]
    },
    {
      "cell_type": "code",
      "metadata": {
        "id": "LHHva_mC8zK3"
      },
      "source": [
        ""
      ],
      "execution_count": null,
      "outputs": []
    }
  ]
}